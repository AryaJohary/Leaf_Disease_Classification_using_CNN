{
 "cells": [
  {
   "attachments": {},
   "cell_type": "markdown",
   "metadata": {},
   "source": [
    "### Image Path Setup"
   ]
  },
  {
   "cell_type": "code",
   "execution_count": 17,
   "metadata": {},
   "outputs": [],
   "source": [
    "import os\n",
    "img_windows_path = input('Enter an image location\\n')\n",
    "img_posix_path = os.path.normpath(img_windows_path).replace(\"\\\\\", \"/\")\n",
    "img_posix_path = img_posix_path.replace('\"','')"
   ]
  },
  {
   "attachments": {},
   "cell_type": "markdown",
   "metadata": {},
   "source": [
    "### Asking for which plant\n",
    "So that we can use it to specify our model and class names"
   ]
  },
  {
   "cell_type": "code",
   "execution_count": 18,
   "metadata": {},
   "outputs": [],
   "source": [
    "plants = ['potato','tomato','pepper']\n",
    "choice_index = input('Enter 1. Potato\\n2. Tomato\\n3.Pepper')\n",
    "choice_index = int(choice_index) - 1"
   ]
  },
  {
   "attachments": {},
   "cell_type": "markdown",
   "metadata": {},
   "source": [
    "### Loading libraries for model"
   ]
  },
  {
   "cell_type": "code",
   "execution_count": 19,
   "metadata": {},
   "outputs": [],
   "source": [
    "# import libraries\n",
    "import tensorflow as tf\n",
    "from tensorflow.keras import models, layers\n",
    "import matplotlib.pyplot as plt\n",
    "import numpy as np\n",
    "import pathlib\n",
    "os.environ['TF_CPP_MIN_LOG_LEVEL'] = '2' "
   ]
  },
  {
   "attachments": {},
   "cell_type": "markdown",
   "metadata": {},
   "source": [
    "### Model loading"
   ]
  },
  {
   "cell_type": "code",
   "execution_count": 20,
   "metadata": {},
   "outputs": [],
   "source": [
    "model = tf.keras.models.load_model('./models/'+plants[choice_index]+'_model.keras')"
   ]
  },
  {
   "attachments": {},
   "cell_type": "markdown",
   "metadata": {},
   "source": [
    "### All available classes on which we have trained our models"
   ]
  },
  {
   "cell_type": "code",
   "execution_count": 21,
   "metadata": {},
   "outputs": [],
   "source": [
    "potato_class_names = ['Early_Blight', 'Healthy', 'Late_Blight']\n",
    "tomato_class_names = ['Tomato_Bacterial_spot',\n",
    " 'Tomato_Early_blight',\n",
    " 'Tomato_Late_blight',\n",
    " 'Tomato_Leaf_Mold',\n",
    " 'Tomato_Septoria_leaf_spot',\n",
    " 'Tomato_Spider_mites_Two_spotted_spider_mite',\n",
    " 'Tomato__Target_Spot',\n",
    " 'Tomato__Tomato_YellowLeaf__Curl_Virus',\n",
    " 'Tomato__Tomato_mosaic_virus',\n",
    " 'Tomato_healthy']\n",
    "pepper_class_names = ['Pepper__bell___Bacterial_spot', 'Pepper__bell___healthy']\n",
    "class_name = []\n",
    "if(choice_index==0):\n",
    "    class_name = potato_class_names\n",
    "elif(choice_index==1):\n",
    "    class_name = tomato_class_names\n",
    "else:\n",
    "    class_name = pepper_class_names"
   ]
  },
  {
   "cell_type": "code",
   "execution_count": 22,
   "metadata": {},
   "outputs": [],
   "source": [
    "#Global initialization of some imp variables\n",
    "Image_Size = 256"
   ]
  },
  {
   "attachments": {},
   "cell_type": "markdown",
   "metadata": {},
   "source": [
    "### Image Pre-Processing for analysis"
   ]
  },
  {
   "attachments": {},
   "cell_type": "markdown",
   "metadata": {},
   "source": [
    "## Prediciton using suitable model"
   ]
  },
  {
   "cell_type": "code",
   "execution_count": 23,
   "metadata": {},
   "outputs": [],
   "source": [
    "from keras.preprocessing.image import load_img\n",
    "img = load_img(img_posix_path, target_size=(Image_Size, Image_Size))\n",
    "# Add the batch dimension\n",
    "img = np.expand_dims(img, axis=0)"
   ]
  },
  {
   "cell_type": "code",
   "execution_count": 24,
   "metadata": {},
   "outputs": [
    {
     "name": "stdout",
     "output_type": "stream",
     "text": [
      "\u001b[1m1/1\u001b[0m \u001b[32m━━━━━━━━━━━━━━━━━━━━\u001b[0m\u001b[37m\u001b[0m \u001b[1m0s\u001b[0m 215ms/step\n",
      "Predicted: Pepper__bell___Bacterial_spot\n"
     ]
    }
   ],
   "source": [
    "class_name = []\n",
    "if(choice_index==0):\n",
    "    class_name = potato_class_names\n",
    "elif(choice_index==1):\n",
    "    class_name = tomato_class_names\n",
    "else:\n",
    "    class_name = pepper_class_names\n",
    "# Get the predicted class for each image in the batch\n",
    "prediction = model.predict(img)\n",
    "for i in range(len(prediction)):\n",
    "    predicted_class_index = np.argmax(prediction[i])\n",
    "    predicted_class = class_name[predicted_class_index]\n",
    "    print(\"Predicted:\", predicted_class)"
   ]
  }
 ],
 "metadata": {
  "kernelspec": {
   "display_name": "Python 3",
   "language": "python",
   "name": "python3"
  },
  "language_info": {
   "codemirror_mode": {
    "name": "ipython",
    "version": 3
   },
   "file_extension": ".py",
   "mimetype": "text/x-python",
   "name": "python",
   "nbconvert_exporter": "python",
   "pygments_lexer": "ipython3",
   "version": "3.12.3"
  },
  "orig_nbformat": 4
 },
 "nbformat": 4,
 "nbformat_minor": 2
}
